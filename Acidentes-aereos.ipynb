{
 "cells": [
  {
   "cell_type": "markdown",
   "metadata": {
    "id": "9-1OspiNHvp9"
   },
   "source": [
    "# <font color =\"#0B6FA6\">Capítulo da Sociedade de Inteligência Computacional do IEEE UFPB </font>"
   ]
  },
  {
   "cell_type": "markdown",
   "metadata": {
    "id": "Nj7tEdXcNzq_"
   },
   "source": [
    "## Preencha seus dados:"
   ]
  },
  {
   "cell_type": "code",
   "execution_count": null,
   "metadata": {
    "executionInfo": {
     "elapsed": 501,
     "status": "ok",
     "timestamp": 1718662053149,
     "user": {
      "displayName": "Ana Lu�sa Londres",
      "userId": "17761406449148520356"
     },
     "user_tz": 180
    },
    "id": "Oq_Q-p3iOLZO"
   },
   "outputs": [],
   "source": [
    "#@title Preencha os campos abaixo:\n",
    "\n",
    "nome = 'Laura de Faria' #@param {type:\"string\"}\n"
   ]
  },
  {
   "cell_type": "markdown",
   "metadata": {
    "id": "2cVogxz6PHkT"
   },
   "source": [
    "## Análise de Dados\n",
    "---"
   ]
  },
  {
   "cell_type": "markdown",
   "metadata": {
    "id": "UwfOR_lMPv0P"
   },
   "source": [
    "**Descrição:**\n",
    "\\\n",
    "Nessa seção, você adentrará no âmbito da análise de dados, que se trata do processo de limpeza, inspeção, modelagem e transformação de dados, corroborando para uma melhor interpretação dos dados e tomadas de decisão mais incisivas. Após essa breve introdução, você terá de analisar o dataset [Ocorrências Aviação](https://raw.githubusercontent.com/carlosfab/dsnp2/master/datasets/ocorrencias_aviacao.csv). O dataset é formado pelos seguintes dados:\n"
   ]
  },
  {
   "cell_type": "markdown",
   "metadata": {
    "id": "4BOBJczoQjYY"
   },
   "source": [
    "### 1 - Leitura dos dados e realização de descrição estatística\n",
    "---"
   ]
  },
  {
   "cell_type": "markdown",
   "metadata": {
    "id": "Fk3jkVCYQjUK"
   },
   "source": [
    "A seguir, o dataframe já estará montado pelo método `pd.read_csv()` da biblioteca `pandas`, a partir da execução da célula.\n",
    "\n",
    "Dica: Você pode acessar a documentação da biblioteca `pandas` [clicando aqui](https://pandas.pydata.org/docs/getting_started/index.html#getting-started). Após o processamento do dataframe, você terá de realizar uma descrição estatística dos dados."
   ]
  },
  {
   "cell_type": "code",
   "execution_count": null,
   "metadata": {
    "colab": {
     "base_uri": "https://localhost:8080/"
    },
    "executionInfo": {
     "elapsed": 9,
     "status": "ok",
     "timestamp": 1718662053620,
     "user": {
      "displayName": "Ana Lu�sa Londres",
      "userId": "17761406449148520356"
     },
     "user_tz": 180
    },
    "id": "BPJjDOCKMVBb",
    "outputId": "898ce145-8afb-4922-ced9-cf230fd32cf3"
   },
   "outputs": [],
   "source": [
    "import pandas as pd\n",
    "\n",
    "df = pd.read_csv('https://raw.githubusercontent.com/carlosfab/dsnp2/master/datasets/ocorrencias_aviacao.csv', sep = ',')\n",
    "\n",
    "# Dimens�o do dataset (Linhas x Colunas)\n",
    "df.shape"
   ]
  },
  {
   "cell_type": "code",
   "execution_count": null,
   "metadata": {
    "colab": {
     "base_uri": "https://localhost:8080/",
     "height": 377
    },
    "executionInfo": {
     "elapsed": 8,
     "status": "ok",
     "timestamp": 1718662053620,
     "user": {
      "displayName": "Ana Lu�sa Londres",
      "userId": "17761406449148520356"
     },
     "user_tz": 180
    },
    "id": "GpRlclOjWjp_",
    "outputId": "d3957c08-9175-4b19-af6e-d88611c43e49"
   },
   "outputs": [],
   "source": [
    "df.head()"
   ]
  },
  {
   "cell_type": "code",
   "execution_count": null,
   "metadata": {
    "colab": {
     "base_uri": "https://localhost:8080/"
    },
    "executionInfo": {
     "elapsed": 8,
     "status": "ok",
     "timestamp": 1718662053620,
     "user": {
      "displayName": "Ana Lu�sa Londres",
      "userId": "17761406449148520356"
     },
     "user_tz": 180
    },
    "id": "WBWfj3jNVkyB",
    "outputId": "c3ef05a7-5b5c-43db-96b5-a983cfa7d82d"
   },
   "outputs": [],
   "source": [
    "df.info()"
   ]
  },
  {
   "cell_type": "code",
   "execution_count": null,
   "metadata": {
    "colab": {
     "base_uri": "https://localhost:8080/",
     "height": 320
    },
    "executionInfo": {
     "elapsed": 6,
     "status": "ok",
     "timestamp": 1718662053620,
     "user": {
      "displayName": "Ana Lu�sa Londres",
      "userId": "17761406449148520356"
     },
     "user_tz": 180
    },
    "id": "ptX5vBFEVsOQ",
    "outputId": "71920186-3fa4-4936-d055-ef35866bf112"
   },
   "outputs": [],
   "source": [
    "df.describe()"
   ]
  },
  {
   "cell_type": "markdown",
   "metadata": {
    "id": "ehUmocXnMszQ"
   },
   "source": [
    "### 2 - Limpeza dos dados\n",
    "\n",
    "---"
   ]
  },
  {
   "cell_type": "markdown",
   "metadata": {
    "id": "ej4Ely4TM0AU"
   },
   "source": [
    "Após verificar o dataset acima e a relação das descrições com os valores existentes, realize o processo de limpeza dos dados, verificando possíveis inconsistências entre as instâncias (linhas que compõem o dataframe)."
   ]
  },
  {
   "cell_type": "code",
   "execution_count": null,
   "metadata": {
    "colab": {
     "base_uri": "https://localhost:8080/"
    },
    "executionInfo": {
     "elapsed": 6,
     "status": "ok",
     "timestamp": 1718662054077,
     "user": {
      "displayName": "Ana Lu�sa Londres",
      "userId": "17761406449148520356"
     },
     "user_tz": 180
    },
    "id": "T6skRNCRVxT2",
    "outputId": "b52462f6-c388-417c-8e65-8495e74cb0f5"
   },
   "outputs": [],
   "source": [
    "# Verificar dados faltantes por coluna\n",
    "missing_data = df.isnull().sum()\n",
    "print(missing_data)"
   ]
  },
  {
   "cell_type": "code",
   "execution_count": null,
   "metadata": {
    "executionInfo": {
     "elapsed": 6,
     "status": "ok",
     "timestamp": 1718662054077,
     "user": {
      "displayName": "Ana Lu�sa Londres",
      "userId": "17761406449148520356"
     },
     "user_tz": 180
    },
    "id": "iro-RGJVV3G2"
   },
   "outputs": [],
   "source": [
    "df = df.drop(columns=['investigacao_aeronave_liberada', 'divulgacao_dia_publicacao'])"
   ]
  },
  {
   "cell_type": "code",
   "execution_count": null,
   "metadata": {
    "colab": {
     "base_uri": "https://localhost:8080/"
    },
    "executionInfo": {
     "elapsed": 6,
     "status": "ok",
     "timestamp": 1718662054078,
     "user": {
      "displayName": "Ana Lu�sa Londres",
      "userId": "17761406449148520356"
     },
     "user_tz": 180
    },
    "id": "F_Gj9970WIjC",
    "outputId": "7378ccb5-ab0a-46da-c9ce-5c4f513ad407"
   },
   "outputs": [],
   "source": [
    "# Verificar duplicatas\n",
    "duplicatas = df.duplicated()\n",
    "\n",
    "total_duplicatas = duplicatas.sum()\n",
    "\n",
    "print(f\"N�mero de duplicatas encontradas: {total_duplicatas}\")"
   ]
  },
  {
   "cell_type": "code",
   "execution_count": null,
   "metadata": {
    "executionInfo": {
     "elapsed": 5,
     "status": "ok",
     "timestamp": 1718662054078,
     "user": {
      "displayName": "Ana Lu�sa Londres",
      "userId": "17761406449148520356"
     },
     "user_tz": 180
    },
    "id": "H_rgjQbdWt7Q"
   },
   "outputs": [],
   "source": [
    "df['ocorrencia_dia'] = pd.to_datetime(df['ocorrencia_dia'], format='%Y-%m-%d')"
   ]
  },
  {
   "cell_type": "code",
   "execution_count": null,
   "metadata": {
    "executionInfo": {
     "elapsed": 5,
     "status": "ok",
     "timestamp": 1718662054078,
     "user": {
      "displayName": "Ana Lu�sa Londres",
      "userId": "17761406449148520356"
     },
     "user_tz": 180
    },
    "id": "2ol9NFRoXo-B"
   },
   "outputs": [],
   "source": [
    "df['ocorrencia_horario'] = pd.to_datetime(df['ocorrencia_horario'], format='%H:%M:%S', errors='coerce')"
   ]
  },
  {
   "cell_type": "code",
   "execution_count": null,
   "metadata": {
    "colab": {
     "base_uri": "https://localhost:8080/"
    },
    "executionInfo": {
     "elapsed": 5,
     "status": "ok",
     "timestamp": 1718662054078,
     "user": {
      "displayName": "Ana Lu�sa Londres",
      "userId": "17761406449148520356"
     },
     "user_tz": 180
    },
    "id": "0ck6OUyVXvKQ",
    "outputId": "389bccc2-6bef-4565-d64d-f235039801bc"
   },
   "outputs": [],
   "source": [
    "df.info()"
   ]
  },
  {
   "cell_type": "markdown",
   "metadata": {
    "id": "DqwqrcVRNVWa"
   },
   "source": [
    "### 3 - Feature Engineering e Dados Categóricos\n",
    "---"
   ]
  },
  {
   "cell_type": "markdown",
   "metadata": {
    "id": "17yv84N-NWE0"
   },
   "source": [
    "3.1 - Em um problema de _Data Science_, é comum nos depararmos com um dataset cujos atributos não esclareçam com efetividade o comportamento de um dado fenômeno. Desta forma, cientistas de dados devem estar aptos a manipular atributos existentes e assim definir novos atributos, de acordo com os critérios estabelecidos. Este processo é descrito como _Feature Engineering_, e trata apenas da manipulação algébrica e/ou lógica de atributos (colunas, no contexto prático) com o intuito de alimentar o seu modelo de Machine Learning com dados relevantes à resolução do problema.\n",
    "Nesta etapa, você deverá utilizar sua intuição aliando criatividade para decidir como novos atributos podem ser definidos, a partir dos dados que você já possui."
   ]
  },
  {
   "cell_type": "code",
   "execution_count": null,
   "metadata": {
    "executionInfo": {
     "elapsed": 4,
     "status": "ok",
     "timestamp": 1718662054078,
     "user": {
      "displayName": "Ana Lu�sa Londres",
      "userId": "17761406449148520356"
     },
     "user_tz": 180
    },
    "id": "WxBxCP0xTlZo"
   },
   "outputs": [],
   "source": [
    "# Agrupando ocorr�ncias por regi�es\n",
    "\n",
    "regioes = {\n",
    "    'N': ['AC', 'AP', 'AM', 'PA', 'RO', 'RR', 'TO'],\n",
    "    'NE': ['AL', 'BA', 'CE', 'MA', 'PB', 'PE', 'PI', 'RN', 'SE'],\n",
    "    'CO': ['DF', 'GO', 'MT', 'MS'],\n",
    "    'SE': ['ES', 'MG', 'RJ', 'SP'],\n",
    "    'S': ['PR', 'RS', 'SC']\n",
    "}\n",
    "\n",
    "def agrupa_regiao(uf):\n",
    "    for regiao, estados in regioes.items():\n",
    "        if uf in estados:\n",
    "            return regiao\n",
    "    return 'Desconhecido'\n",
    "\n",
    "df['ocorrencia_regiao'] = df['ocorrencia_uf'].apply(agrupa_regiao)"
   ]
  },
  {
   "cell_type": "code",
   "execution_count": null,
   "metadata": {
    "executionInfo": {
     "elapsed": 4,
     "status": "ok",
     "timestamp": 1718662054078,
     "user": {
      "displayName": "Ana Lu�sa Londres",
      "userId": "17761406449148520356"
     },
     "user_tz": 180
    },
    "id": "QTe7rOXyUB4V"
   },
   "outputs": [],
   "source": [
    "# Contagem de ocorr�ncias por regi�o\n",
    "\n",
    "df['ocorrencias_por_regiao'] = df.groupby('ocorrencia_regiao')['ocorrencia_regiao'].transform('count')"
   ]
  },
  {
   "cell_type": "code",
   "execution_count": null,
   "metadata": {
    "executionInfo": {
     "elapsed": 3,
     "status": "ok",
     "timestamp": 1718662054078,
     "user": {
      "displayName": "Ana Lu�sa Londres",
      "userId": "17761406449148520356"
     },
     "user_tz": 180
    },
    "id": "RBi41UcwUatZ"
   },
   "outputs": [],
   "source": [
    "# Flag para gravidade da ocorr�ncia\n",
    "\n",
    "tipos_graves = ['ACIDENTE', 'INCIDENTE GRAVE']\n",
    "df['ocorrencia_grave'] = df['ocorrencia_classificacao'].apply(lambda x: 1 if x in tipos_graves else 0)"
   ]
  },
  {
   "cell_type": "code",
   "execution_count": null,
   "metadata": {
    "executionInfo": {
     "elapsed": 3,
     "status": "ok",
     "timestamp": 1718662054078,
     "user": {
      "displayName": "Ana Lu�sa Londres",
      "userId": "17761406449148520356"
     },
     "user_tz": 180
    },
    "id": "5qJ35N5FU7on"
   },
   "outputs": [],
   "source": [
    "# Ano da ocorr�ncia\n",
    "\n",
    "df['ocorrencia_ano'] = df['ocorrencia_dia'].dt.year"
   ]
  },
  {
   "cell_type": "markdown",
   "metadata": {
    "id": "aHjYwBTvNsVs"
   },
   "source": [
    "3.2 - Algoritmos de Machine Learning só funcionam com valores numéricos. Isto significa que antes de treinar qualquer modelo, deve-se transformar os dados categóricos em dados numéricos. Encontre uma forma para que seu modelo consiga interpretar todos os atributos não-numéricos como numéricos."
   ]
  },
  {
   "cell_type": "code",
   "execution_count": null,
   "metadata": {
    "colab": {
     "base_uri": "https://localhost:8080/"
    },
    "executionInfo": {
     "elapsed": 792,
     "status": "ok",
     "timestamp": 1718662061665,
     "user": {
      "displayName": "Ana Lu�sa Londres",
      "userId": "17761406449148520356"
     },
     "user_tz": 180
    },
    "id": "pxOWtFEYWAZq",
    "outputId": "a944cb99-ff6b-42a9-efef-87bff27d4895"
   },
   "outputs": [],
   "source": [
    "from sklearn.preprocessing import LabelEncoder\n",
    "\n",
    "# Agrupando as colunas categ�ricas\n",
    "categorical_columns = [\n",
    "    'ocorrencia_classificacao', 'ocorrencia_tipo', 'ocorrencia_tipo_categoria', 'ocorrencia_tipo_icao',\n",
    "    'ocorrencia_cidade', 'ocorrencia_uf', 'ocorrencia_pais', 'ocorrencia_aerodromo',\n",
    "    'investigacao_status', 'divulgacao_relatorio_numero', 'divulgacao_relatorio_publicado',\n",
    "    'ocorrencia_saida_pista', 'ocorrencia_dia_extracao', 'ocorrencia_regiao'\n",
    "]\n",
    "\n",
    "# Aplicando a técnica One-Hot Encoding\n",
    "df = pd.get_dummies(df, columns=categorical_columns, drop_first=True)\n",
    "\n",
    "print(df.head())\n",
    "print(df.info())"
   ]
  },
  {
   "cell_type": "markdown",
   "metadata": {
    "id": "sHAVAJXYQ7ET"
   },
   "source": [
    "### 4 - Balanceamento de dados\n"
   ]
  },
  {
   "cell_type": "markdown",
   "metadata": {
    "id": "udaO7OZvRCY4"
   },
   "source": [
    "\n",
    "*(SE NECESSÁRIO UTILIZAR, JUSTIFIQUE)*\n",
    "\n",
    "O balanceamento de classes é uma técnica de pré-processamento usada em problemas de classificação quando as classes alvo estão desproporcionalmente representadas nos dados. É necessário quando essa distribuição desigual prejudica o desempenho do modelo. Pode ser feito aumentando a classe minoritária (oversampling) ou reduzindo a classe majoritária (undersampling). A escolha depende do contexto e das características dos dados. É crucial para garantir que o modelo seja treinado de maneira equilibrada para todas as classes, melhorando assim sua capacidade de generalização e precisão nas previsões."
   ]
  },
  {
   "cell_type": "code",
   "execution_count": null,
   "metadata": {},
   "outputs": [],
   "source": [
    "import matplotlib.pyplot as plt\n",
    "\n",
    "df.hist(figsize=(15,15))\n",
    "plt.show()"
   ]
  },
  {
   "cell_type": "markdown",
   "metadata": {
    "id": "bmrbhFzrQSwY"
   },
   "source": [
    "### 5 - Seleção de características\n",
    "---"
   ]
  },
  {
   "cell_type": "markdown",
   "metadata": {
    "id": "tYeFb77iQSaw"
   },
   "source": [
    "Se o conjunto de dados contiver muitos atributos, é realizada a seleção de características para reduzir a dimensionalidade e melhorar a eficiência e precisão dos modelos. Isso pode ser feito usando técnicas como análise de correlação, análise de componentes principais (PCA) ou algoritmos de seleção de características."
   ]
  },
  {
   "cell_type": "code",
   "execution_count": null,
   "metadata": {
    "colab": {
     "base_uri": "https://localhost:8080/",
     "height": 560
    },
    "executionInfo": {
     "elapsed": 213726,
     "status": "ok",
     "timestamp": 1718662335667,
     "user": {
      "displayName": "Ana Lu�sa Londres",
      "userId": "17761406449148520356"
     },
     "user_tz": 180
    },
    "id": "4r7JA-vSk_on",
    "outputId": "a2b2725a-2dfa-4478-f48c-ba32852f2987"
   },
   "outputs": [],
   "source": [
    "# Análise de correlação\n",
    "\n",
    "import seaborn as sns\n",
    "import matplotlib.pyplot as plt\n",
    "\n",
    "corr_matrix = df.corr()\n",
    "\n",
    "plt.figure(figsize=(14, 10))\n",
    "sns.heatmap(corr_matrix, annot=False, cmap='coolwarm', vmin=-1, vmax=1)\n",
    "plt.title('Matriz de Correla��o')\n",
    "plt.show()\n",
    "\n",
    "# Caracter�sticas com correla��o com 'ocorrencia_grave'\n",
    "target_corr = abs(corr_matrix['ocorrencia_grave']).sort_values(ascending=False)\n",
    "relevant_features = target_corr.index.tolist()\n",
    "\n",
    "print(\"Caracter�sticas relevantes ordenadas por correla��o com 'ocorrencia_grave':\")\n",
    "print(target_corr)"
   ]
  },
  {
   "cell_type": "markdown",
   "metadata": {
    "id": "i6XsPbipnzLF"
   },
   "source": [
    "Os resultados da correlação indicam quais características estão mais fortemente associadas à variável 'ocorrencia_grave' no conjunto de dados.\n",
    "\n",
    "- Primeiramente, observamos que tanto a classificação da ocorrência como INCIDENTE GRAVE quanto a própria variável alvo 'ocorrencia_grave' apresentam uma correlação positiva perfeita de 1. Isso significa que o fato de uma ocorrência ser classificada como INCIDENTE GRAVE está diretamente relacionado à sua gravidade.\n",
    "- Além disso, características como o número do relatório de divulgação, que possui uma correlação de 0.872415, e a informação de se o relatório foi publicado, com uma correlação de 0.607092, mostram fortes associações positivas com ocorrências graves.\n",
    "- Por outro lado, características como o aeródromo específico e cidades como ARAGUAÍNA mostram correlações muito baixas, próximas de zero, com 'ocorrencia_grave', sugerindo que essas variáveis têm pouca influência na determinação da gravidade das ocorrências.\n",
    "\n",
    "Por fim, temos que essas correlações nos ajudam a identificar quais características podem ser mais relevantes para prever ou entender ocorrências graves no conjunto de dados."
   ]
  },
  {
   "cell_type": "code",
   "execution_count": null,
   "metadata": {
    "colab": {
     "base_uri": "https://localhost:8080/"
    },
    "executionInfo": {
     "elapsed": 10,
     "status": "ok",
     "timestamp": 1718662335668,
     "user": {
      "displayName": "Ana Lu�sa Londres",
      "userId": "17761406449148520356"
     },
     "user_tz": 180
    },
    "id": "0mEkb3e3Z1hU",
    "outputId": "c2df93a0-8602-4d31-9eaa-19a73ac18340"
   },
   "outputs": [],
   "source": [
    "# Convers�o de coluna de data para ano\n",
    "df['ano_ocorrencia'] = df['ocorrencia_dia'].dt.year"
   ]
  },
  {
   "cell_type": "code",
   "execution_count": null,
   "metadata": {
    "colab": {
     "base_uri": "https://localhost:8080/"
    },
    "executionInfo": {
     "elapsed": 2694,
     "status": "ok",
     "timestamp": 1718662338355,
     "user": {
      "displayName": "Ana Lu�sa Londres",
      "userId": "17761406449148520356"
     },
     "user_tz": 180
    },
    "id": "G8qCKuZkX80k",
    "outputId": "0adce2c2-9878-4c55-e42a-85b8eb440b04"
   },
   "outputs": [],
   "source": [
    "from sklearn.model_selection import train_test_split\n",
    "from sklearn.ensemble import RandomForestClassifier\n",
    "from sklearn.metrics import classification_report\n",
    "\n",
    "X = df.drop(['codigo_ocorrencia', 'ocorrencia_dia', 'ocorrencia_horario'], axis=1)\n",
    "y = df['ocorrencia_grave']  # Vari�vel alvo\n",
    "\n",
    "X_train, X_test, y_train, y_test = train_test_split(X, y, test_size=0.2, random_state=42)\n",
    "\n",
    "# Criando o Random Forest\n",
    "rf = RandomForestClassifier(n_estimators=100, random_state=42)\n",
    "rf.fit(X_train, y_train)\n",
    "\n",
    "y_pred = rf.predict(X_test)\n",
    "\n",
    "print(classification_report(y_test, y_pred))"
   ]
  },
  {
   "cell_type": "markdown",
   "metadata": {
    "id": "5L_FUIsGqVg4"
   },
   "source": [
    "Os resultados apresentados com o Random Forest indicam que o modelo atingiu uma performance muito alta:\n",
    "\n",
    "- Precision e Recall: Ambas as classes (0 e 1) têm precision e recall de 1.00, o que significa que o modelo não teve falsos positivos nem falsos negativos para nenhuma das classes. Isso indica que o modelo está previsando com perfeição ambas as classes.\n",
    "- F1-score: O F1-score também é 1.00 para ambas as classes, o que confirma a excelente precisão e recall observados. O valor alto de F1-score indica que o modelo é robusto e tem um bom equilíbrio entre precision e recall.\n",
    "- Accuracy: A acurácia do modelo é 1.00, o que significa que todos os exemplos foram classificados corretamente. Isso é um indicativo de que o modelo está performando muito bem na classificação dos dados."
   ]
  },
  {
   "cell_type": "markdown",
   "metadata": {},
   "source": [
    "### 6 - Análise Exploratória dos Dados\n",
    "---"
   ]
  },
  {
   "cell_type": "markdown",
   "metadata": {
    "id": "eZa7dxfQN0ka"
   },
   "source": [
    "Antes de qualquer análise aprofundada de um conjunto de dados, é crucial entender como esses dados estão distribuídos, quais valores são mais comuns, a dispersão dos dados e se há valores que se destacam do restante do conjunto. Essas informações são fundamentais para a análise exploratória de dados e são conhecidas como estatísticas descritivas. Assim, realize uma análise exploratória sobre os dados deste problema, utilizando a biblioteca `matplotlib.pyplot` ou `seaborn` para criar gráficos que representem estas medidas. Utilize boxplots para visualizar dados muito discrepantes entre as amostras do dataset."
   ]
  },
  {
   "cell_type": "markdown",
   "metadata": {},
   "source": [
    "**Perguntas para responder:**\n",
    "\n",
    "- Quais são as principais causas de ocorrência e, eventualmente, queda de aviões?\n",
    "- Como isso progrediu nos últimos anos? Houve menos ou mais ocorrências?\n",
    "- Quais estados registraram mais ocorrências?\n",
    "- Há mais ocorrências finalizadas ou ativas?"
   ]
  },
  {
   "cell_type": "code",
   "execution_count": null,
   "metadata": {
    "executionInfo": {
     "elapsed": 3,
     "status": "ok",
     "timestamp": 1718662338355,
     "user": {
      "displayName": "Ana Lu�sa Londres",
      "userId": "17761406449148520356"
     },
     "user_tz": 180
    },
    "id": "NauTnh0-p-1R"
   },
   "outputs": [],
   "source": [
    "df = pd.read_csv('https://raw.githubusercontent.com/carlosfab/dsnp2/master/datasets/ocorrencias_aviacao.csv', sep = ',')"
   ]
  },
  {
   "cell_type": "code",
   "execution_count": null,
   "metadata": {
    "colab": {
     "base_uri": "https://localhost:8080/",
     "height": 435
    },
    "executionInfo": {
     "elapsed": 571,
     "status": "ok",
     "timestamp": 1718662338924,
     "user": {
      "displayName": "Ana Lu�sa Londres",
      "userId": "17761406449148520356"
     },
     "user_tz": 180
    },
    "id": "gZInTb4fo3Vm",
    "outputId": "df54f1d3-0f2e-4877-87ae-4be6da48798c"
   },
   "outputs": [],
   "source": [
    "# Contagem de ocorr�ncias por estado\n",
    "top_estados = df['ocorrencia_uf'].value_counts().head(10)\n",
    "\n",
    "plt.figure(figsize=(10, 6))\n",
    "sns.barplot(x=top_estados.values, y=top_estados.index, hue=top_estados.index, palette='pink', dodge=False)\n",
    "plt.title('Estados com Maior N�mero de Ocorr�ncias de Avia��o')\n",
    "plt.xlabel('N�mero de Ocorr�ncias')\n",
    "plt.ylabel('Estado')\n",
    "plt.show()"
   ]
  },
  {
   "cell_type": "code",
   "execution_count": null,
   "metadata": {
    "colab": {
     "base_uri": "https://localhost:8080/",
     "height": 433
    },
    "executionInfo": {
     "elapsed": 1279,
     "status": "ok",
     "timestamp": 1718662372727,
     "user": {
      "displayName": "Ana Lu�sa Londres",
      "userId": "17761406449148520356"
     },
     "user_tz": 180
    },
    "id": "2VETTvrnqrCP",
    "outputId": "f1ab83d7-b288-43e5-cc0a-4c51af8d89ac"
   },
   "outputs": [],
   "source": [
    "# Contagem de ocorr�ncias por ano\n",
    "df['ocorrencia_dia'] = pd.to_datetime(df['ocorrencia_dia'], format='%Y-%m-%d')\n",
    "df['ocorrencia_ano'] = df['ocorrencia_dia'].dt.year\n",
    "ocorrencias_por_ano = df['ocorrencia_ano'].value_counts().sort_index()\n",
    "\n",
    "plt.figure(figsize=(10, 6))\n",
    "plt.plot(ocorrencias_por_ano.index, ocorrencias_por_ano.values, marker='o', linestyle='-', color='pink')\n",
    "plt.title('Progress�o de ocorr�ncias de avia��o ao longo dos anos')\n",
    "plt.xlabel('Ano')\n",
    "plt.ylabel('N�mero de ocorr�ncias')\n",
    "plt.grid(True)\n",
    "plt.show()"
   ]
  },
  {
   "cell_type": "code",
   "execution_count": null,
   "metadata": {
    "colab": {
     "base_uri": "https://localhost:8080/",
     "height": 404
    },
    "executionInfo": {
     "elapsed": 1002,
     "status": "ok",
     "timestamp": 1718662394862,
     "user": {
      "displayName": "Ana Lu�sa Londres",
      "userId": "17761406449148520356"
     },
     "user_tz": 180
    },
    "id": "ENhCeniWrpFJ",
    "outputId": "af17c643-ed90-412d-fbb7-3cd07a4091f9"
   },
   "outputs": [],
   "source": [
    "# Contagem das principais causas de ocorr�ncia\n",
    "top_causas = df['ocorrencia_tipo'].value_counts().head(15)\n",
    "\n",
    "plt.figure(figsize=(10, 6))\n",
    "sns.barplot(x=top_causas.values, y=top_causas.index, palette='mako', saturation=0.8)\n",
    "plt.title('Principais causas de ocorr�ncias de avia��o')\n",
    "plt.xlabel('N�mero de ocorr�ncias')\n",
    "plt.ylabel('Causa da ocorr�ncia')\n",
    "plt.show()"
   ]
  },
  {
   "cell_type": "code",
   "execution_count": null,
   "metadata": {
    "colab": {
     "base_uri": "https://localhost:8080/",
     "height": 595
    },
    "executionInfo": {
     "elapsed": 383,
     "status": "ok",
     "timestamp": 1718662422119,
     "user": {
      "displayName": "Ana Lu�sa Londres",
      "userId": "17761406449148520356"
     },
     "user_tz": 180
    },
    "id": "GN-BMSx-syKj",
    "outputId": "bb2357d8-0ff5-4f72-cb94-588c8365e499"
   },
   "outputs": [],
   "source": [
    "# Contagem de ocorr�ncias por status de investiga��o\n",
    "status_investigacao = df['investigacao_status'].value_counts()\n",
    "\n",
    "plt.figure(figsize=(8, 6))\n",
    "sns.barplot(x=status_investigacao.values, y=status_investigacao.index, palette='husl')\n",
    "plt.title('Distribui��o de ocorr�ncias por status de investiga��o')\n",
    "plt.xlabel('N�mero de ocorr�ncias')\n",
    "plt.ylabel('Status da investiga��o')\n",
    "plt.show()"
   ]
  },
  {
   "cell_type": "code",
   "execution_count": null,
   "metadata": {
    "colab": {
     "base_uri": "https://localhost:8080/",
     "height": 892
    },
    "executionInfo": {
     "elapsed": 2268,
     "status": "ok",
     "timestamp": 1718662439427,
     "user": {
      "displayName": "Ana Lu�sa Londres",
      "userId": "17761406449148520356"
     },
     "user_tz": 180
    },
    "id": "n-UV624mypil",
    "outputId": "7d8c1cae-2893-4ff5-d070-ea83919717c6"
   },
   "outputs": [],
   "source": [
    "plt.figure(figsize=(8, 16))\n",
    "sns.boxplot(x='investigacao_status', y='ocorrencia_tipo', data=df, palette='husl')\n",
    "plt.title('Distribui��o de ocorr�ncias por status de investiga��o')\n",
    "plt.xlabel('Status de investiga��o')\n",
    "plt.ylabel('N�mero de ocorr�ncias')\n",
    "plt.show()"
   ]
  },
  {
   "cell_type": "markdown",
   "metadata": {
    "id": "JKCchwLHqUwf"
   },
   "source": [
    "- As principais causas de ocorrência são, respectivamente, falha do motor em voo, estouro de pneu e falha ou mal funcionamento de sistema/componente\n",
    "\n",
    "- Nos últimos anos, o progresso dessas ocorrências teve um aumento até 2012, em que houve um pico de acidentes. Entre 2012 e 2013 não houve mudança significativa mas, entre 2013 e 2014, houve um declínio de ocorrências, com uma diminuição constante até 2016, onde aumentou levemente, mas voltou a cair até 2018, que foi o último ano estudado.\n",
    "\n",
    "- Os estados que mais registraram ocorrências foram, em ordem:\n",
    "  1. SP\n",
    "  2. RJ\n",
    "  3. MG\n",
    "  4. PR\n",
    "  5. RS\n",
    "\n",
    "- Há significativamente mais ocorrências finalizadas do que ativas. Também foi comprovado que não há ocorrências reabertas."
   ]
  }
 ],
 "metadata": {
  "colab": {
   "provenance": []
  },
  "kernelspec": {
   "display_name": "Python 3",
   "name": "python3"
  },
  "language_info": {
   "name": "python"
  }
 },
 "nbformat": 4,
 "nbformat_minor": 0
}
